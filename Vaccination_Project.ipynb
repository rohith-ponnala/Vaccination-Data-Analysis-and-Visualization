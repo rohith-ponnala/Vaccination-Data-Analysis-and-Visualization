{
 "cells": [
  {
   "cell_type": "markdown",
   "id": "f808bdef",
   "metadata": {},
   "source": [
    "# 📊 Vaccination Data Analysis Project\n",
    "This project performs **data cleaning, EDA, and prepares data** for SQL + Power BI integration using vaccination datasets."
   ]
  },
  {
   "cell_type": "code",
   "execution_count": null,
   "id": "defaa8c6",
   "metadata": {},
   "outputs": [],
   "source": [
    "\n",
    "# Step 1: Import Libraries\n",
    "import pandas as pd\n",
    "import numpy as np\n",
    "import matplotlib.pyplot as plt\n",
    "\n",
    "# Set display options\n",
    "pd.set_option(\"display.max_columns\", None)\n"
   ]
  },
  {
   "cell_type": "code",
   "execution_count": null,
   "id": "85675d77",
   "metadata": {},
   "outputs": [],
   "source": [
    "\n",
    "# Step 2: Load Datasets (Upload required Excel files into Colab environment before running this cell)\n",
    "coverage = pd.read_excel(\"coverage-data.xlsx\", sheet_name=\"Data\")\n",
    "incidence = pd.read_excel(\"incidence-rate-data.xlsx\", sheet_name=\"Data\")\n",
    "reported_cases = pd.read_excel(\"reported-cases-data.xlsx\", sheet_name=\"Data\")\n",
    "vaccine_intro = pd.read_excel(\"vaccine-introduction-data.xlsx\", sheet_name=\"Data\")\n",
    "vaccine_schedule = pd.read_excel(\"vaccine-schedule-data.xlsx\", sheet_name=\"Data\")\n",
    "\n",
    "print(\"Coverage shape:\", coverage.shape)\n",
    "print(\"Incidence shape:\", incidence.shape)\n",
    "print(\"Reported Cases shape:\", reported_cases.shape)\n",
    "print(\"Vaccine Intro shape:\", vaccine_intro.shape)\n",
    "print(\"Vaccine Schedule shape:\", vaccine_schedule.shape)\n"
   ]
  },
  {
   "cell_type": "code",
   "execution_count": null,
   "id": "eaad3ed9",
   "metadata": {},
   "outputs": [],
   "source": [
    "\n",
    "# Step 3: Data Cleaning Function\n",
    "def clean_dataframe(df):\n",
    "    df.columns = df.columns.str.strip().str.upper()\n",
    "    df = df.replace([\"NA\", \"NaN\", \"None\", \"-\", \"\"], np.nan)\n",
    "    return df\n",
    "\n",
    "coverage = clean_dataframe(coverage)\n",
    "incidence = clean_dataframe(incidence)\n",
    "reported_cases = clean_dataframe(reported_cases)\n",
    "vaccine_intro = clean_dataframe(vaccine_intro)\n",
    "vaccine_schedule = clean_dataframe(vaccine_schedule)\n",
    "\n",
    "# Fill numeric NaN with 0\n",
    "for df in [coverage, incidence, reported_cases]:\n",
    "    num_cols = df.select_dtypes(include=[np.number]).columns\n",
    "    df[num_cols] = df[num_cols].fillna(0)\n"
   ]
  },
  {
   "cell_type": "code",
   "execution_count": null,
   "id": "4dc0fceb",
   "metadata": {},
   "outputs": [],
   "source": [
    "\n",
    "# Step 4: Exploratory Data Analysis (EDA)\n",
    "\n",
    "# ---- Vaccination Coverage Trends ----\n",
    "coverage_trend = coverage.groupby([\"YEAR\"])[\"COVERAGE\"].mean().reset_index()\n",
    "plt.figure(figsize=(10,5))\n",
    "plt.plot(coverage_trend[\"YEAR\"], coverage_trend[\"COVERAGE\"], marker=\"o\")\n",
    "plt.title(\"Average Global Vaccination Coverage Over Time\")\n",
    "plt.xlabel(\"Year\")\n",
    "plt.ylabel(\"Coverage (%)\")\n",
    "plt.grid(True)\n",
    "plt.show()\n"
   ]
  },
  {
   "cell_type": "code",
   "execution_count": null,
   "id": "0f8a69fe",
   "metadata": {},
   "outputs": [],
   "source": [
    "\n",
    "# ---- Disease Incidence Trend ----\n",
    "incidence_trend = incidence.groupby([\"YEAR\"])[\"INCIDENCE_RATE\"].mean().reset_index()\n",
    "plt.figure(figsize=(10,5))\n",
    "plt.plot(incidence_trend[\"YEAR\"], incidence_trend[\"INCIDENCE_RATE\"], marker=\"o\", color=\"red\")\n",
    "plt.title(\"Average Global Disease Incidence Over Time\")\n",
    "plt.xlabel(\"Year\")\n",
    "plt.ylabel(\"Incidence Rate\")\n",
    "plt.grid(True)\n",
    "plt.show()\n"
   ]
  },
  {
   "cell_type": "code",
   "execution_count": null,
   "id": "6d7af831",
   "metadata": {},
   "outputs": [],
   "source": [
    "\n",
    "# ---- Coverage vs Disease Incidence ----\n",
    "merged = coverage.merge(incidence, on=[\"CODE\",\"NAME\",\"YEAR\"], how=\"inner\")\n",
    "plt.scatter(merged[\"COVERAGE\"], merged[\"INCIDENCE_RATE\"], alpha=0.5)\n",
    "plt.title(\"Vaccination Coverage vs Disease Incidence\")\n",
    "plt.xlabel(\"Coverage (%)\")\n",
    "plt.ylabel(\"Incidence Rate\")\n",
    "plt.show()\n"
   ]
  },
  {
   "cell_type": "code",
   "execution_count": null,
   "id": "343707e8",
   "metadata": {},
   "outputs": [],
   "source": [
    "\n",
    "# Step 5: Save Cleaned Data for SQL\n",
    "coverage.to_csv(\"cleaned_coverage.csv\", index=False)\n",
    "incidence.to_csv(\"cleaned_incidence.csv\", index=False)\n",
    "reported_cases.to_csv(\"cleaned_reported_cases.csv\", index=False)\n",
    "vaccine_intro.to_csv(\"cleaned_vaccine_intro.csv\", index=False)\n",
    "vaccine_schedule.to_csv(\"cleaned_vaccine_schedule.csv\", index=False)\n",
    "\n",
    "print(\"✅ Cleaning and EDA completed. Cleaned CSVs saved for SQL integration.\")\n"
   ]
  }
 ],
 "metadata": {},
 "nbformat": 4,
 "nbformat_minor": 5
}